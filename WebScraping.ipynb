{
 "cells": [
  {
   "cell_type": "code",
   "execution_count": 4,
   "metadata": {},
   "outputs": [],
   "source": [
    "from bs4 import BeautifulSoup"
   ]
  },
  {
   "cell_type": "code",
   "execution_count": 5,
   "metadata": {},
   "outputs": [],
   "source": [
    "import webbrowser"
   ]
  },
  {
   "cell_type": "code",
   "execution_count": 6,
   "metadata": {},
   "outputs": [
    {
     "data": {
      "text/plain": [
       "True"
      ]
     },
     "execution_count": 6,
     "metadata": {},
     "output_type": "execute_result"
    }
   ],
   "source": [
    "webbrowser.open('http://inventwithpython.com/')"
   ]
  },
  {
   "cell_type": "code",
   "execution_count": 11,
   "metadata": {},
   "outputs": [
    {
     "name": "stdout",
     "output_type": "stream",
     "text": [
      "870 Valencia St, San Francisco, CA 94110\n"
     ]
    },
    {
     "data": {
      "text/plain": [
       "True"
      ]
     },
     "execution_count": 11,
     "metadata": {},
     "output_type": "execute_result"
    }
   ],
   "source": [
    "import webbrowser, sys, pyperclip\n",
    "\n",
    "#if len(sys.argv) >1:\n",
    "    #Get address from command line\n",
    "    #address = ' '.join(sys.argv[1:])\n",
    "#else:\n",
    "\n",
    "#Get address from clipboard\n",
    "address = pyperclip.paste()\n",
    "print(address)\n",
    "    \n",
    "webbrowser.open('https://www.google.com/maps/place/' + address)"
   ]
  },
  {
   "cell_type": "code",
   "execution_count": 43,
   "metadata": {},
   "outputs": [],
   "source": [
    "import requests, bs4, webbrowser, sys,urllib\n",
    "\n",
    "res = requests.get('https://dds.aer.ca/iar_query/FindApplications.aspx')\n",
    "res.raise_for_status()\n",
    "\n",
    "IAR = bs4.BeautifulSoup(res.text, \"lxml\")"
   ]
  },
  {
   "cell_type": "code",
   "execution_count": 34,
   "metadata": {},
   "outputs": [
    {
     "data": {
      "text/plain": [
       "[<span cssbrokenrule=\"\" cssdefault=\"\" cssdisabled=\"\" id=\"lblDecisionReportNumber\"></span>]"
      ]
     },
     "execution_count": 34,
     "metadata": {},
     "output_type": "execute_result"
    }
   ],
   "source": [
    "elems = IAR.select( \"#lblDecisionReportNumber\" )\n",
    "\n",
    "elems"
   ]
  },
  {
   "cell_type": "code",
   "execution_count": 35,
   "metadata": {},
   "outputs": [
    {
     "ename": "AttributeError",
     "evalue": "'list' object has no attribute 'get'",
     "output_type": "error",
     "traceback": [
      "\u001b[1;31m---------------------------------------------------------------------------\u001b[0m",
      "\u001b[1;31mAttributeError\u001b[0m                            Traceback (most recent call last)",
      "\u001b[1;32m<ipython-input-35-284a8eeefd95>\u001b[0m in \u001b[0;36m<module>\u001b[1;34m()\u001b[0m\n\u001b[1;32m----> 1\u001b[1;33m \u001b[0melems\u001b[0m\u001b[1;33m.\u001b[0m\u001b[0mget\u001b[0m\u001b[1;33m(\u001b[0m\u001b[1;34m'id'\u001b[0m\u001b[1;33m)\u001b[0m\u001b[1;33m\u001b[0m\u001b[0m\n\u001b[0m",
      "\u001b[1;31mAttributeError\u001b[0m: 'list' object has no attribute 'get'"
     ]
    }
   ],
   "source": [
    "elems.get('id')"
   ]
  },
  {
   "cell_type": "code",
   "execution_count": 91,
   "metadata": {},
   "outputs": [],
   "source": [
    "####Working####"
   ]
  },
  {
   "cell_type": "code",
   "execution_count": 213,
   "metadata": {},
   "outputs": [
    {
     "name": "stdout",
     "output_type": "stream",
     "text": [
      "['13-Sep-2017', '24-Nov-2017']\n"
     ]
    }
   ],
   "source": [
    "from selenium import webdriver\n",
    "from selenium.webdriver.common.keys import Keys\n",
    "from selenium.webdriver.common.by import By\n",
    "from selenium.webdriver.support.ui import WebDriverWait\n",
    "from selenium.webdriver.support import expected_conditions as EC\n",
    "from selenium.webdriver.common.action_chains import ActionChains\n",
    "\n",
    "class TimeoutException(Exception): pass\n",
    "\n",
    "import time\n",
    "from selenium.webdriver import ActionChains\n",
    "\n",
    "class Actions(ActionChains):\n",
    "    def wait(self, time_s: float):\n",
    "        self._actions.append(lambda: time.sleep(time_s))\n",
    "        return self\n",
    "\n",
    "driver = webdriver.Ie()\n",
    "driver.get('https://dds.aer.ca/iar_query/FindApplications.aspx')\n",
    "\n",
    "BoardButton = WebDriverWait(driver, 10).until(EC.element_to_be_clickable((By.XPATH, '//*[@id=\"BoardApprovalNumber\"]')))\n",
    "Actions(driver).move_to_element(BoardButton).click().send_keys(\"0485418\").send_keys(Keys.ENTER).perform()\n",
    "\n",
    "\n",
    "ViewButton_1 = WebDriverWait(driver, 10).until(EC.element_to_be_clickable((By.XPATH, '//*[@id=\"ApplicationGrid\"]/tbody/tr[2]/td[1]/input')))\n",
    "Actions(driver).move_to_element(ViewButton_1).click().perform()\n",
    "\n",
    "#Save Date\n",
    "elem = WebDriverWait(driver, 10).until(EC.element_to_be_clickable((By.XPATH, '//*[@id=\"StatusHistoryGrid\"]/tbody/tr[2]/td[2]')))\n",
    "Lic_Date = []\n",
    "Lic_Date.append(elem.text)\n",
    "#Click Back Button\n",
    "Back = WebDriverWait(driver, 10).until(EC.element_to_be_clickable((By.XPATH, '//*[@id=\"btnBack\"]')))\n",
    "Actions(driver).move_to_element(Back).click().perform()\n",
    "\n",
    "try:\n",
    "    ViewButton_2 = WebDriverWait(driver, 10).until(EC.element_to_be_clickable((By.XPATH, '//*[@id=\"ApplicationGrid\"]/tbody/tr[3]/td[1]/input')))\n",
    "    Actions(driver).move_to_element(ViewButton_2).click().perform()\n",
    "    \n",
    "    elem = WebDriverWait(driver, 10).until(EC.element_to_be_clickable((By.XPATH, '//*[@id=\"StatusHistoryGrid\"]/tbody/tr[2]/td[2]')))\n",
    "    Lic_Date.append(elem.text)\n",
    "    \n",
    "except Exception:\n",
    "    pass\n",
    "\n",
    "driver.quit()\n",
    "\n",
    "print(Lic_Date)\n"
   ]
  },
  {
   "cell_type": "code",
   "execution_count": 219,
   "metadata": {},
   "outputs": [],
   "source": [
    "WL_dict= dict()\n",
    "WL_dict.setdefault(WL, []).append(n)\n"
   ]
  },
  {
   "cell_type": "code",
   "execution_count": null,
   "metadata": {},
   "outputs": [],
   "source": [
    "//*[@id=\"ApplicationGrid\"]/tbody/tr[2]/td[1]/input"
   ]
  },
  {
   "cell_type": "code",
   "execution_count": null,
   "metadata": {},
   "outputs": [],
   "source": [
    "//*[@id=\"StatusHistoryGrid\"]/tbody/tr[2]/td[2]"
   ]
  },
  {
   "cell_type": "code",
   "execution_count": null,
   "metadata": {},
   "outputs": [],
   "source": [
    "//*[@id=\"btnBack\"]"
   ]
  },
  {
   "cell_type": "code",
   "execution_count": null,
   "metadata": {},
   "outputs": [],
   "source": [
    "//*[@id=\"ApplicationGrid\"]/tbody/tr[3]/td[1]/input"
   ]
  },
  {
   "cell_type": "code",
   "execution_count": null,
   "metadata": {},
   "outputs": [],
   "source": [
    "//*[@id=\"StatusHistoryGrid\"]/tbody/tr[2]/td[2]"
   ]
  },
  {
   "cell_type": "markdown",
   "metadata": {},
   "source": [
    "[Headless Selenium](https://stackoverflow.com/questions/27748631/headless-selenium-for-win-using-python)"
   ]
  },
  {
   "cell_type": "code",
   "execution_count": 5,
   "metadata": {},
   "outputs": [],
   "source": [
    "\n",
    "    \n",
    "\n",
    "\n",
    "def WL_Date(WL, WL_dict):\n",
    "\n",
    "    from selenium import webdriver\n",
    "    from selenium.webdriver.common.keys import Keys\n",
    "    from selenium.webdriver.common.by import By\n",
    "    from selenium.webdriver.support.ui import WebDriverWait\n",
    "    from selenium.webdriver.support import expected_conditions as EC\n",
    "    from selenium.webdriver.common.action_chains import ActionChains\n",
    "\n",
    "    #driver = webdriver.Ie()\n",
    "    driver = webdriver.Ie(r\"C:\\Users\\jordwil\\AppData\\Local\\Continuum\\anaconda3\\headless_ie_selenium.exe\")\n",
    "    driver.get('https://dds.aer.ca/iar_query/FindApplications.aspx')\n",
    "\n",
    "    BoardButton = WebDriverWait(driver, 10).until(EC.element_to_be_clickable((By.XPATH, '//*[@id=\"BoardApprovalNumber\"]')))\n",
    "    ActionChains(driver).move_to_element(BoardButton).click().send_keys(WL).send_keys(Keys.ENTER).perform()\n",
    "\n",
    "\n",
    "    ViewButton_1 = WebDriverWait(driver, 10).until(EC.element_to_be_clickable((By.XPATH, '//*[@id=\"ApplicationGrid\"]/tbody/tr[2]/td[1]/input')))\n",
    "    ActionChains(driver).move_to_element(ViewButton_1).click().perform()\n",
    "\n",
    "    #Append Date to dictionary\n",
    "    elem = WebDriverWait(driver, 10).until(EC.element_to_be_clickable((By.XPATH, '//*[@id=\"StatusHistoryGrid\"]/tbody/tr[2]/td[2]')))\n",
    "    WL_dict.setdefault(WL, []).append(elem.text)\n",
    "\n",
    "    #Click Back Button\n",
    "    Back = WebDriverWait(driver, 10).until(EC.element_to_be_clickable((By.XPATH, '//*[@id=\"btnBack\"]')))\n",
    "    ActionChains(driver).move_to_element(Back).click().perform()\n",
    "\n",
    "    try:\n",
    "        ViewButton_2 = WebDriverWait(driver, 10).until(EC.element_to_be_clickable((By.XPATH, '//*[@id=\"ApplicationGrid\"]/tbody/tr[3]/td[1]/input')))\n",
    "        ActionChains(driver).move_to_element(ViewButton_2).click().perform()\n",
    "\n",
    "        elem = WebDriverWait(driver, 10).until(EC.element_to_be_clickable((By.XPATH, '//*[@id=\"StatusHistoryGrid\"]/tbody/tr[2]/td[2]')))\n",
    "        WL_dict.setdefault(WL, []).append(elem.text)\n",
    "\n",
    "    except Exception:\n",
    "        pass\n",
    "\n",
    "    driver.quit()\n",
    "    \n",
    "    return WL_dict\n",
    "\n",
    "\n",
    "\n"
   ]
  },
  {
   "cell_type": "code",
   "execution_count": 6,
   "metadata": {},
   "outputs": [
    {
     "name": "stdout",
     "output_type": "stream",
     "text": [
      "Please enter WL:0485418\n"
     ]
    }
   ],
   "source": [
    "WL_dict= dict()\n",
    "WL = input(\"Please enter WL:\")\n",
    "\n",
    "WL_dict = WL_Date(WL, WL_dict)\n",
    "#copy_WL(WL, WL_dict)\n",
    "\n",
    "#print(WL_dict[WL])"
   ]
  },
  {
   "cell_type": "code",
   "execution_count": 7,
   "metadata": {},
   "outputs": [
    {
     "data": {
      "text/plain": [
       "{'0485418': ['13-Sep-2017', '24-Nov-2017']}"
      ]
     },
     "execution_count": 7,
     "metadata": {},
     "output_type": "execute_result"
    }
   ],
   "source": [
    "WL_dict"
   ]
  },
  {
   "cell_type": "code",
   "execution_count": 398,
   "metadata": {},
   "outputs": [
    {
     "data": {
      "text/plain": [
       "'05-Feb-2018'"
      ]
     },
     "execution_count": 398,
     "metadata": {},
     "output_type": "execute_result"
    }
   ],
   "source": [
    "WL_dict['0487989'][0]"
   ]
  },
  {
   "cell_type": "code",
   "execution_count": 430,
   "metadata": {},
   "outputs": [
    {
     "data": {
      "text/plain": [
       "{'0485418': ['13-Sep-2017', '24-Nov-2017']}"
      ]
     },
     "execution_count": 430,
     "metadata": {},
     "output_type": "execute_result"
    }
   ],
   "source": [
    "WL_dict"
   ]
  },
  {
   "cell_type": "code",
   "execution_count": null,
   "metadata": {},
   "outputs": [],
   "source": [
    "'Please enter WL:0485418\n",
    "['13-Sep-2017', '24-Nov-2017']'"
   ]
  },
  {
   "cell_type": "code",
   "execution_count": null,
   "metadata": {},
   "outputs": [],
   "source": [
    "Year = datetime.date.today().strftime(\"%Y\")\n",
    "Month = datetime.date.today().strftime(\"%m\")\n",
    "day = datetime.date.today().strftime(\"%d\")"
   ]
  },
  {
   "cell_type": "code",
   "execution_count": 3,
   "metadata": {},
   "outputs": [],
   "source": [
    "def copy_WL(WL, WL_dict):\n",
    "\n",
    "    import datetime as dt\n",
    "    import shutil\n",
    "    import os\n",
    "\n",
    "    strp_date = []\n",
    "    for n, date in enumerate(WL_dict[str(WL)]):\n",
    "        strp_date.append(dt.datetime.strptime(date, \"%d-%b-%Y\"))\n",
    "        M = strp_date[n].strftime(\"%m\")\n",
    "        D = strp_date[n].strftime(\"%d\")\n",
    "        Y = strp_date[n].strftime(\"%Y\")\n",
    "        Folder = 'C:\\\\1AER\\\\' + Y + '\\\\' +'WELLS' + M + D + '.TXT'\n",
    "        CWD = str(os.getcwd())\n",
    "        shutil.copy(str(Folder), CWD)\n",
    "        print('WELLS' + M + D + '.TXT successfully copied')\n",
    "    \n",
    "    \n",
    "    return"
   ]
  },
  {
   "cell_type": "code",
   "execution_count": 435,
   "metadata": {},
   "outputs": [
    {
     "data": {
      "text/plain": [
       "[datetime.datetime(2018, 2, 5, 0, 0)]"
      ]
     },
     "execution_count": 435,
     "metadata": {},
     "output_type": "execute_result"
    }
   ],
   "source": [
    "date"
   ]
  },
  {
   "cell_type": "code",
   "execution_count": 436,
   "metadata": {},
   "outputs": [
    {
     "name": "stdout",
     "output_type": "stream",
     "text": [
      "0 13-Sep-2017\n"
     ]
    },
    {
     "ename": "AttributeError",
     "evalue": "'str' object has no attribute 'strftime'",
     "output_type": "error",
     "traceback": [
      "\u001b[1;31m---------------------------------------------------------------------------\u001b[0m",
      "\u001b[1;31mAttributeError\u001b[0m                            Traceback (most recent call last)",
      "\u001b[1;32m<ipython-input-436-7b60f8b0f991>\u001b[0m in \u001b[0;36m<module>\u001b[1;34m()\u001b[0m\n\u001b[0;32m      1\u001b[0m \u001b[1;32mfor\u001b[0m \u001b[0mn\u001b[0m\u001b[1;33m,\u001b[0m \u001b[0mdate\u001b[0m \u001b[1;32min\u001b[0m \u001b[0menumerate\u001b[0m\u001b[1;33m(\u001b[0m\u001b[0mWL_dict\u001b[0m\u001b[1;33m[\u001b[0m\u001b[0mstr\u001b[0m\u001b[1;33m(\u001b[0m\u001b[0mWL\u001b[0m\u001b[1;33m)\u001b[0m\u001b[1;33m]\u001b[0m\u001b[1;33m)\u001b[0m\u001b[1;33m:\u001b[0m\u001b[1;33m\u001b[0m\u001b[0m\n\u001b[0;32m      2\u001b[0m     \u001b[0mprint\u001b[0m\u001b[1;33m(\u001b[0m\u001b[0mn\u001b[0m\u001b[1;33m,\u001b[0m \u001b[0mdate\u001b[0m\u001b[1;33m)\u001b[0m\u001b[1;33m\u001b[0m\u001b[0m\n\u001b[1;32m----> 3\u001b[1;33m     \u001b[0mM\u001b[0m \u001b[1;33m=\u001b[0m \u001b[0mdate\u001b[0m\u001b[1;33m.\u001b[0m\u001b[0mstrftime\u001b[0m\u001b[1;33m(\u001b[0m\u001b[1;34m\"%m\"\u001b[0m\u001b[1;33m)\u001b[0m\u001b[1;33m\u001b[0m\u001b[0m\n\u001b[0m",
      "\u001b[1;31mAttributeError\u001b[0m: 'str' object has no attribute 'strftime'"
     ]
    }
   ],
   "source": [
    "for n, date in enumerate(WL_dict[str(WL)]):\n",
    "    print(n, date)\n",
    "    M = date.strftime(\"%m\")"
   ]
  },
  {
   "cell_type": "code",
   "execution_count": 410,
   "metadata": {},
   "outputs": [
    {
     "data": {
      "text/plain": [
       "'02'"
      ]
     },
     "execution_count": 410,
     "metadata": {},
     "output_type": "execute_result"
    }
   ],
   "source": [
    "strp_date[0].strftime(\"%m\")"
   ]
  },
  {
   "cell_type": "code",
   "execution_count": 411,
   "metadata": {},
   "outputs": [
    {
     "data": {
      "text/plain": [
       "'05'"
      ]
     },
     "execution_count": 411,
     "metadata": {},
     "output_type": "execute_result"
    }
   ],
   "source": [
    "strp_date[0].strftime(\"%d\")"
   ]
  },
  {
   "cell_type": "code",
   "execution_count": 413,
   "metadata": {},
   "outputs": [
    {
     "data": {
      "text/plain": [
       "'2018'"
      ]
     },
     "execution_count": 413,
     "metadata": {},
     "output_type": "execute_result"
    }
   ],
   "source": [
    "strp_date[0].strftime(\"%Y\")"
   ]
  },
  {
   "cell_type": "code",
   "execution_count": 414,
   "metadata": {},
   "outputs": [
    {
     "data": {
      "text/plain": [
       "'C:\\\\Users\\\\jordwil\\\\Documents\\\\Python Scripts\\\\LAS QC'"
      ]
     },
     "execution_count": 414,
     "metadata": {},
     "output_type": "execute_result"
    }
   ],
   "source": [
    "os.getcwd()"
   ]
  },
  {
   "cell_type": "code",
   "execution_count": null,
   "metadata": {},
   "outputs": [],
   "source": []
  },
  {
   "cell_type": "code",
   "execution_count": 246,
   "metadata": {},
   "outputs": [
    {
     "data": {
      "text/plain": [
       "[<a href=\"/\">AER - Alberta Energy Regulator</a>,\n",
       " <a href=\"http://portal.aer.ca\">Systems &amp; Tools</a>,\n",
       " <a href=\"/data-and-publications/aer-forms\">Forms</a>,\n",
       " <a href=\"http://aer.hgcareers.com\">Careers</a>,\n",
       " <a href=\"/about-aer/media-centre\">Media Centre</a>,\n",
       " <a href=\"/about-aer/contact-us\">Contact Us</a>,\n",
       " <a href=\"http://portal.aer.ca\">Systems &amp; Tools</a>,\n",
       " <a href=\"/data-and-publications/aer-forms\">Forms</a>,\n",
       " <a href=\"http://aer.hgcareers.com\">Careers</a>,\n",
       " <a href=\"/about-aer/media-centre\">Media Centre</a>,\n",
       " <a href=\"/about-aer/contact-us\">Contact Us</a>,\n",
       " <a class=\"applications\" href=\"/applications-and-notices\">Applications &amp; Notices</a>,\n",
       " <a href=\"/applications-and-notices/notices\">Notices</a>,\n",
       " <a href=\"/applications-and-notices/application-process\">Application Process</a>,\n",
       " <a href=\"/applications-and-notices/how-do-i-get-involved\">How Do I Get Involved?</a>,\n",
       " <a href=\"/applications-and-notices/statement-of-concern\">Statement of Concern</a>,\n",
       " <a href=\"/applications-and-notices/hearings-and-proceedings\">Hearings &amp; Proceedings</a>,\n",
       " <a href=\"/applications-and-notices/environmental-assessment\">Environmental Assessment</a>,\n",
       " <a href=\"/applications-and-notices/decisions\">Decisions</a>,\n",
       " <a href=\"/applications-and-notices/appeals\">Appeals</a>,\n",
       " <a href=\"/applications-and-notices/integrated-decision-approach\">Integrated Decision Approach</a>,\n",
       " <a class=\"compliance\" href=\"/compliance-and-enforcement\">Compliance &amp; Enforcement</a>,\n",
       " <a href=\"/compliance-and-enforcement/compliance-assurance\">Compliance Assurance Program</a>,\n",
       " <a class=\"redirect\" href=\"http://www1.aer.ca/ComplianceDashboard/index.html\">Compliance Dashboard</a>,\n",
       " <a href=\"/compliance-and-enforcement/public-safety\">Public Safety</a>,\n",
       " <a href=\"/compliance-and-enforcement/education\">Education</a>,\n",
       " <a href=\"/compliance-and-enforcement/inspections-and-audits\">Inspections &amp; Audits</a>,\n",
       " <a href=\"/compliance-and-enforcement/investigations\">Investigations</a>,\n",
       " <a href=\"/compliance-and-enforcement/compliance-and-enforcement-tools\">Compliance and Enforcement Tools</a>,\n",
       " <a class=\"abandonment\" href=\"/abandonment-and-reclamation\">Abandonment &amp; Reclamation</a>,\n",
       " <a href=\"/abandonment-and-reclamation/liability-management\">Liability Management</a>,\n",
       " <a href=\"/abandonment-and-reclamation/how-are-wells-suspended\">How are Wells Suspended</a>,\n",
       " <a href=\"/abandonment-and-reclamation/why-are-wells-abandoned\">Why are Wells Abandoned</a>,\n",
       " <a href=\"/abandonment-and-reclamation/reclamation-remediation\">Reclamation &amp; Remediation</a>,\n",
       " <a class=\"rules\" href=\"/rules-and-directives\">Rules &amp; Directives</a>,\n",
       " <a href=\"/rules-and-regulations/acts-and-rules\">Acts, Regulations &amp; Rules</a>,\n",
       " <a href=\"/rules-and-regulations/bulletins\">Bulletins</a>,\n",
       " <a href=\"/rules-and-regulations/by-topic\">By Topic</a>,\n",
       " <a href=\"/rules-and-regulations/directives\">Directives</a>,\n",
       " <a href=\"/rules-and-regulations/specified-enactment-direction\">Specified Enactment Direction</a>,\n",
       " <a href=\"/rules-and-regulations/informational-letters\">Informational Letters</a>,\n",
       " <a href=\"/rules-and-regulations/manuals\">Manuals</a>,\n",
       " <a href=\"/rules-and-regulations/regulatory-change-report\">Regulatory Change Report</a>,\n",
       " <a class=\"active data\" href=\"/data-and-publications\">Data &amp; Publications</a>,\n",
       " <a href=\"/data-and-publications/activity-and-data\">Activity &amp; Data</a>,\n",
       " <a href=\"/data-and-publications/orders\">Orders</a>,\n",
       " <a href=\"/data-and-publications/industry-performance-program\">Industry Performance Program</a>,\n",
       " <a href=\"/data-and-publications/statistical-reports\">Statistical Reports (ST)</a>,\n",
       " <a href=\"/data-and-publications/aer-forms\">AER Forms</a>,\n",
       " <a href=\"/data-and-publications/publications\">Publications</a>,\n",
       " <a class=\"redirect\" href=\"http://www1.aer.ca/ProductCatalogue/index.html\">Products &amp; Services Catalogue</a>,\n",
       " <a class=\"about\" href=\"/about-aer\">About AER</a>,\n",
       " <a href=\"/about-aer/who-we-are\">Who we are</a>,\n",
       " <a href=\"/about-aer/what-we-do\">What we do</a>,\n",
       " <a href=\"/about-aer/governance\">Governance</a>,\n",
       " <a href=\"/about-aer/aer-in-your-community\">AER in your community</a>,\n",
       " <a class=\"redirect\" href=\"http://aer.hgcareers.com\">Careers</a>,\n",
       " <a href=\"/about-aer/enerfaqs\">EnerFAQs (Q&amp;As)</a>,\n",
       " <a href=\"/about-aer/media-centre\">Media Centre</a>,\n",
       " <a href=\"/about-aer/spotlight-on\">Spotlight On...</a>,\n",
       " <a href=\"/about-aer/contact-us\">Contact Us</a>,\n",
       " <a href=\"/about-aer/external-resources\">External Resources</a>,\n",
       " <a class=\"font-increase\" href=\"#\">Increase Font Size</a>,\n",
       " <a class=\"font-decrease\" href=\"#\">Decrease Font Size</a>,\n",
       " <a class=\"share st_sharethis_custom\" href=\"#\">Share</a>,\n",
       " <a class=\"print\" href=\"#\">Print</a>,\n",
       " <a class=\"font-increase\" href=\"#\">Increase Font Size</a>,\n",
       " <a class=\"font-decrease\" href=\"#\">Decrease Font Size</a>,\n",
       " <a class=\"share st_sharethis_custom\" href=\"#\">Share</a>,\n",
       " <a class=\"print\" href=\"#\">Print</a>,\n",
       " <a class=\"vertical-toggle\" data-toggle=\"collapse\" href=\".vertical-collapse\">Data &amp; Publications</a>,\n",
       " <a href=\"/data-and-publications/activity-and-data\"><span>Activity &amp; Data</span></a>,\n",
       " <a href=\"/data-and-publications/orders\"><span>Orders</span></a>,\n",
       " <a href=\"/data-and-publications/industry-performance-program\"><span>Industry Performance Program</span></a>,\n",
       " <a href=\"/data-and-publications/statistical-reports\"><span>Statistical Reports (ST)</span></a>,\n",
       " <a href=\"/data-and-publications/aer-forms\"><span>AER Forms</span></a>,\n",
       " <a href=\"/data-and-publications/publications\"><span>Publications</span></a>,\n",
       " <a class=\"redirect\" href=\"http://www1.aer.ca/ProductCatalogue/index.html\" target=\"_blank\"><span>Products &amp; Services Catalogue</span></a>,\n",
       " <a href=\"http://www.aer.ca/data/well-lic/WELLSSUN.TXT\" target=\"_blank\">SU</a>,\n",
       " <a href=\"http://www.aer.ca/data/well-lic/WELLSMON.TXT\" target=\"_blank\">MO</a>,\n",
       " <a href=\"http://www.aer.ca/data/well-lic/WELLSTUE.TXT\" target=\"_blank\">TU</a>,\n",
       " <a href=\"http://www.aer.ca/data/well-lic/WELLSWED.TXT\" target=\"_blank\">WE</a>,\n",
       " <a href=\"http://www.aer.ca/data/well-lic/WELLSTHU.TXT\" target=\"_blank\">TH</a>,\n",
       " <a href=\"http://www.aer.ca/data/well-lic/WELLSFRI.TXT\" target=\"_blank\">FR</a>,\n",
       " <a href=\"http://www.aer.ca/data/well-lic/WELLSSAT.TXT\" target=\"_blank\">SA</a>,\n",
       " <a href=\"/data-and-publications/activity-and-data/reference-codes\" title=\"Reference Codes\">AER Reference Codes</a>,\n",
       " <a href=\"/data-and-publications/statistical-reports/st102\">ST102</a>,\n",
       " <a href=\"/data-and-publications/statistical-reports/st103\">ST103</a>,\n",
       " <a href=\"/data-and-publications/statistical-reports/st104\">ST104</a>,\n",
       " <a href=\"http://www.aer.ca/data/well-lic/dwll2018-01.zip\" target=\"_blank\">January 2018</a>,\n",
       " <a href=\"http://www.aer.ca/data/well-lic/dwll2018-02.zip\" target=\"_blank\">February 2018</a>,\n",
       " <a href=\"http://www.aer.ca/data/well-lic/dwll2017.zip\" target=\"_blank\" title=\"2016\">2017</a>,\n",
       " <a href=\"http://www.aer.ca/data/well-lic/dwll2016.zip\" target=\"_blank\" title=\"2016\">2016</a>,\n",
       " <a href=\"http://www.aer.ca/data/well-lic/dwll2015.zip\" title=\"2015\"><strong>2015</strong></a>,\n",
       " <a href=\"http://www.aer.ca/data/well-lic/dwll2014.zip\">2014</a>,\n",
       " <a href=\"http://www.aer.ca/data/well-lic/dwll2013.zip\" title=\"2013 Well Licences\">2013</a>,\n",
       " <a href=\"http://www.aer.ca/data/well-lic/dwll2012.zip\" title=\"2012 Well Licences\">2012</a>,\n",
       " <a href=\"/\">Home</a>,\n",
       " <a href=\"/data-and-publications\">Data &amp; Publications</a>,\n",
       " <a href=\"/data-and-publications/statistical-reports\">Statistical Reports (ST)</a>,\n",
       " <a href=\"/applications-and-notices/how-do-i-get-involved\">How do I get involved?</a>,\n",
       " <a href=\"/applications-and-notices/private-surface-agreements-registry\">Private surface agreements registry</a>,\n",
       " <a href=\"/applications-and-notices/statement-of-concern\">File a statement of concern</a>,\n",
       " <a href=\"/applications-and-notices/file-a-complaint\">File a complaint</a>,\n",
       " <a href=\"/applications-and-notices/alternate-dispute-resolution\">Alternative dispute resolution</a>,\n",
       " <a href=\"/about-aer/spotlight-on/oil-sands\">Oil sands</a>,\n",
       " <a href=\"/about-aer/spotlight-on/unconventional-regulatory-framework/what-is-hydraulic-fracturing\">Hydraulic fracturing</a>,\n",
       " <a href=\"http://mapviewer.aer.ca/Html5/Index.html?viewer=aerabnwells\">Abandoned well map viewer</a>,\n",
       " <a href=\"/about-aer/spotlight-on/alberta-tailings-managment-framework\">Tailings management</a>,\n",
       " <a href=\"/about-aer/spotlight-on/pipeline-safety\">Pipeline safety</a>,\n",
       " <a href=\"http://search.aer.ca/pnoa-en/search/theme/pnoa?fq[]=feed_str:all&amp;sort=recent\">Public notice of application</a>,\n",
       " <a href=\"http://search.aer.ca/pnod-en/search/theme/pnod?fq[]=feed_str:all&amp;sort=recent\">Publication of decision</a>,\n",
       " <a href=\"/applications-and-notices/hearings-and-proceedings\">Hearing schedules</a>,\n",
       " <a href=\"/applications-and-notices/decisions\">Decisions</a>,\n",
       " <a href=\"/data-and-publications/orders/cost-orders\">Cost orders</a>,\n",
       " <a href=\"/data-and-publications/orders/index-of-aer-orders\">Index of AER orders</a>,\n",
       " <a href=\"/data-and-publications/statistical-reports/st49\">Drilling activity</a>,\n",
       " <a href=\"/data-and-publications/statistical-reports/st1\">Well licences issued </a>,\n",
       " <a href=\"/data-and-publications/statistical-reports/st96\">Pipeline approval licences</a>,\n",
       " <a href=\"/data-and-publications/statistical-reports/st97\">Facility approval licences</a>,\n",
       " <a href=\"/data-and-publications/statistical-reports/st100\">Pipeline construction notification</a>,\n",
       " <a href=\"/data-and-publications/activity-and-data/in-situ-performance-presentations\">In situ performance presentations</a>,\n",
       " <a href=\"http://www1.aer.ca/ComplianceDashboard/index.html\">Compliance dashboard</a>,\n",
       " <a href=\"/data-and-publications/statistical-reports/st3\">Industries monthly statistics</a>,\n",
       " <a href=\"/data-and-publications/statistical-reports/st108\">Monthly enforcement action summary</a>,\n",
       " <a href=\"http://www.twitter.com/aer_news\" target=\"_blank\"><img src=\"http://www.aer.ca/images/ui/icon_twitter.png\"/></a>,\n",
       " <a href=\"http://www.youtube.com/user/ABEnergyRegulator\" target=\"_blank\"><img src=\"http://www.aer.ca/images/ui/icon_youtube.png\"/></a>,\n",
       " <a href=\"http://www.aer.ca/rss\" target=\"_blank\"><img src=\"http://www.aer.ca/images/ui/icon_rss.png\"/></a>,\n",
       " <a href=\"http://www.linkedin.com/company/634825?trk=prof-0-ovw-curr_pos\" target=\"_blank\"><img src=\"http://www.aer.ca/images/ui/icon_linkdin.png\"/></a>,\n",
       " <a href=\"http://resource.aer.ca/\" target=\"_blank\"><img src=\"http://www.aer.ca/images/ui/icon_reSource.png\"/></a>,\n",
       " <a href=\"http://talk.aer.ca/\" target=\"_blank\"><img src=\"http://www.aer.ca/images/ui/icon_talk.png\"/></a>,\n",
       " <a href=\"/sitemap\">Site Map</a>,\n",
       " <a href=\"/copyright-disclaimer\">Copyright &amp; Disclaimer</a>,\n",
       " <a href=\"/privacy-statement\">Privacy Statement</a>,\n",
       " <a href=\"/sm-tou\">Social Media Terms of Use</a>]"
      ]
     },
     "execution_count": 246,
     "metadata": {},
     "output_type": "execute_result"
    }
   ],
   "source": [
    "import requests, bs4, webbrowser, sys, urllib\n",
    "\n",
    "res = requests.get('http://aer.ca/data-and-publications/statistical-reports/st1')\n",
    "res.raise_for_status()\n",
    "\n",
    "soup = bs4.BeautifulSoup(res.text, \"lxml\")\n",
    "soup.find_all(\"a\")\n"
   ]
  },
  {
   "cell_type": "code",
   "execution_count": null,
   "metadata": {},
   "outputs": [],
   "source": []
  },
  {
   "cell_type": "code",
   "execution_count": 247,
   "metadata": {},
   "outputs": [
    {
     "name": "stdout",
     "output_type": "stream",
     "text": [
      "<a href=\"http://www.aer.ca/data/well-lic/WELLSSUN.TXT\" target=\"_blank\">SU</a>\n",
      "<a href=\"http://www.aer.ca/data/well-lic/WELLSMON.TXT\" target=\"_blank\">MO</a>\n",
      "<a href=\"http://www.aer.ca/data/well-lic/WELLSTUE.TXT\" target=\"_blank\">TU</a>\n",
      "<a href=\"http://www.aer.ca/data/well-lic/WELLSWED.TXT\" target=\"_blank\">WE</a>\n",
      "<a href=\"http://www.aer.ca/data/well-lic/WELLSTHU.TXT\" target=\"_blank\">TH</a>\n",
      "<a href=\"http://www.aer.ca/data/well-lic/WELLSFRI.TXT\" target=\"_blank\">FR</a>\n",
      "<a href=\"http://www.aer.ca/data/well-lic/WELLSSAT.TXT\" target=\"_blank\">SA</a>\n",
      "<a href=\"http://www.aer.ca/data/well-lic/dwll2018-01.zip\" target=\"_blank\">January 2018</a>\n",
      "<a href=\"http://www.aer.ca/data/well-lic/dwll2018-02.zip\" target=\"_blank\">February 2018</a>\n",
      "<a href=\"http://www.aer.ca/data/well-lic/dwll2017.zip\" target=\"_blank\" title=\"2016\">2017</a>\n",
      "<a href=\"http://www.aer.ca/data/well-lic/dwll2016.zip\" target=\"_blank\" title=\"2016\">2016</a>\n",
      "<a href=\"http://www.aer.ca/data/well-lic/dwll2015.zip\" title=\"2015\"><strong>2015</strong></a>\n",
      "<a href=\"http://www.aer.ca/data/well-lic/dwll2014.zip\">2014</a>\n",
      "<a href=\"http://www.aer.ca/data/well-lic/dwll2013.zip\" title=\"2013 Well Licences\">2013</a>\n",
      "<a href=\"http://www.aer.ca/data/well-lic/dwll2012.zip\" title=\"2012 Well Licences\">2012</a>\n"
     ]
    }
   ],
   "source": [
    "result = soup.find_all(\"a\")\n",
    "\n",
    "for string in result:\n",
    "    #print(str(string))\n",
    "    if \"well-lic\" in str(string):\n",
    "        print(string)"
   ]
  },
  {
   "cell_type": "code",
   "execution_count": 392,
   "metadata": {},
   "outputs": [],
   "source": [
    "import requests, bs4, webbrowser, sys, urllib\n",
    "import re\n",
    "import os\n",
    "\n",
    "res = requests.get('http://www.aer.ca/data/well-lic/st1.html')\n",
    "res.raise_for_status()\n",
    "\n",
    "links = []\n",
    "\n",
    "soup = bs4.BeautifulSoup(res.text, \"lxml\")\n",
    "for link in soup.find_all(\"a\", attrs = {'href': re.compile(\"http://\")}):\n",
    "    links.append(link.get('href'))\n",
    "\n",
    "\n",
    "import datetime\n",
    "\n",
    "Year = datetime.date.today().strftime(\"%Y\")\n",
    "Month = datetime.date.today().strftime(\"%m\")\n",
    "day = datetime.date.today().strftime(\"%d\")\n",
    "\n",
    "date = str(Month+day)\n",
    "refDATE = datetime.datetime(int(Year), int(Month)-1, 1)\n",
    "\n",
    "URL = 'http://www.aer.ca/data/well-lic/WELLS' + date + '.TXT'\n",
    "\n",
    "if int(Month) in (1,3,5,7,8,10,12):\n",
    "    X = 31\n",
    "elif int(Month) in (4,6,9,11):\n",
    "    X = 30\n",
    "else: X = 28 \n",
    "\n",
    "for i in range(1,X+1):\n",
    "    num = \"{0:02d}\".format(int(Month)-1) + \"{0:02d}\".format(i)\n",
    "    links.append('http://www.aer.ca/data/well-lic/WELLS' + num + '.TXT') \n",
    "\n",
    "Folder = 'C:\\\\1AER\\\\' + Year\n",
    "if not os.path.exists(Folder):\n",
    "    os.makedirs(Folder)\n",
    "\n",
    "\n",
    "for n, line in enumerate(links):\n",
    "    res = requests.get(line)\n",
    "    res.raise_for_status()\n",
    "    file = open(Folder + '\\\\' + links[n][-13:] , \"wb\")\n",
    "    for chunk in res.iter_content(100000):\n",
    "        file.write(chunk)\n",
    "    file.close"
   ]
  },
  {
   "cell_type": "code",
   "execution_count": 379,
   "metadata": {},
   "outputs": [
    {
     "name": "stdout",
     "output_type": "stream",
     "text": [
      "0 http://www.aer.ca/data/well-lic/WELLS0401.TXT\n",
      "1 http://www.aer.ca/data/well-lic/WELLS0402.TXT\n",
      "2 http://www.aer.ca/data/well-lic/WELLS0403.TXT\n",
      "3 http://www.aer.ca/data/well-lic/WELLS0404.TXT\n",
      "4 http://www.aer.ca/data/well-lic/WELLS0405.TXT\n",
      "5 http://www.aer.ca/data/well-lic/WELLS0406.TXT\n",
      "6 http://www.aer.ca/data/well-lic/WELLS0407.TXT\n",
      "7 http://www.aer.ca/data/well-lic/WELLS0408.TXT\n",
      "8 http://www.aer.ca/data/well-lic/WELLS0409.TXT\n",
      "9 http://www.aer.ca/data/well-lic/WELLS0410.TXT\n",
      "10 http://www.aer.ca/data/well-lic/WELLS0411.TXT\n",
      "11 http://www.aer.ca/data/well-lic/WELLS0301.TXT\n",
      "12 http://www.aer.ca/data/well-lic/WELLS0302.TXT\n",
      "13 http://www.aer.ca/data/well-lic/WELLS0303.TXT\n",
      "14 http://www.aer.ca/data/well-lic/WELLS0304.TXT\n",
      "15 http://www.aer.ca/data/well-lic/WELLS0305.TXT\n",
      "16 http://www.aer.ca/data/well-lic/WELLS0306.TXT\n",
      "17 http://www.aer.ca/data/well-lic/WELLS0307.TXT\n",
      "18 http://www.aer.ca/data/well-lic/WELLS0308.TXT\n",
      "19 http://www.aer.ca/data/well-lic/WELLS0309.TXT\n",
      "20 http://www.aer.ca/data/well-lic/WELLS0310.TXT\n",
      "21 http://www.aer.ca/data/well-lic/WELLS0311.TXT\n",
      "22 http://www.aer.ca/data/well-lic/WELLS0312.TXT\n",
      "23 http://www.aer.ca/data/well-lic/WELLS0313.TXT\n",
      "24 http://www.aer.ca/data/well-lic/WELLS0314.TXT\n",
      "25 http://www.aer.ca/data/well-lic/WELLS0315.TXT\n",
      "26 http://www.aer.ca/data/well-lic/WELLS0316.TXT\n",
      "27 http://www.aer.ca/data/well-lic/WELLS0317.TXT\n",
      "28 http://www.aer.ca/data/well-lic/WELLS0318.TXT\n",
      "29 http://www.aer.ca/data/well-lic/WELLS0319.TXT\n",
      "30 http://www.aer.ca/data/well-lic/WELLS0320.TXT\n",
      "31 http://www.aer.ca/data/well-lic/WELLS0321.TXT\n",
      "32 http://www.aer.ca/data/well-lic/WELLS0322.TXT\n",
      "33 http://www.aer.ca/data/well-lic/WELLS0323.TXT\n",
      "34 http://www.aer.ca/data/well-lic/WELLS0324.TXT\n",
      "35 http://www.aer.ca/data/well-lic/WELLS0325.TXT\n",
      "36 http://www.aer.ca/data/well-lic/WELLS0326.TXT\n",
      "37 http://www.aer.ca/data/well-lic/WELLS0327.TXT\n",
      "38 http://www.aer.ca/data/well-lic/WELLS0328.TXT\n",
      "39 http://www.aer.ca/data/well-lic/WELLS0329.TXT\n",
      "40 http://www.aer.ca/data/well-lic/WELLS0330.TXT\n"
     ]
    }
   ],
   "source": [
    "for n, line in enumerate(links):\n",
    "    print(n, line)"
   ]
  },
  {
   "cell_type": "code",
   "execution_count": 371,
   "metadata": {},
   "outputs": [],
   "source": [
    "res = requests.get('http://www.aer.ca/data/well-lic/WELLS0301.TXT')\n",
    "res.raise_for_status()\n",
    "\n",
    "file = open(\"Test.txt\", \"wb\")\n",
    "\n",
    "for chunk in res.iter_content(100000):\n",
    "    file.write(chunk)\n",
    "\n",
    "\n",
    "#with open(\"file\",\"wb\") as file:\n",
    "#    file.write(res)"
   ]
  },
  {
   "cell_type": "code",
   "execution_count": null,
   "metadata": {},
   "outputs": [],
   "source": []
  },
  {
   "cell_type": "code",
   "execution_count": null,
   "metadata": {},
   "outputs": [],
   "source": []
  },
  {
   "cell_type": "code",
   "execution_count": null,
   "metadata": {},
   "outputs": [],
   "source": []
  },
  {
   "cell_type": "code",
   "execution_count": null,
   "metadata": {},
   "outputs": [],
   "source": []
  },
  {
   "cell_type": "code",
   "execution_count": null,
   "metadata": {},
   "outputs": [],
   "source": []
  },
  {
   "cell_type": "code",
   "execution_count": 360,
   "metadata": {},
   "outputs": [
    {
     "data": {
      "text/plain": [
       "['http://www.aer.ca/data/well-lic/WELLS01.TXT',\n",
       " 'http://www.aer.ca/data/well-lic/WELLS02.TXT',\n",
       " 'http://www.aer.ca/data/well-lic/WELLS03.TXT',\n",
       " 'http://www.aer.ca/data/well-lic/WELLS04.TXT',\n",
       " 'http://www.aer.ca/data/well-lic/WELLS05.TXT',\n",
       " 'http://www.aer.ca/data/well-lic/WELLS06.TXT',\n",
       " 'http://www.aer.ca/data/well-lic/WELLS07.TXT',\n",
       " 'http://www.aer.ca/data/well-lic/WELLS08.TXT',\n",
       " 'http://www.aer.ca/data/well-lic/WELLS09.TXT',\n",
       " 'http://www.aer.ca/data/well-lic/WELLS10.TXT',\n",
       " 'http://www.aer.ca/data/well-lic/WELLS11.TXT',\n",
       " 'http://www.aer.ca/data/well-lic/WELLS12.TXT',\n",
       " 'http://www.aer.ca/data/well-lic/WELLS13.TXT',\n",
       " 'http://www.aer.ca/data/well-lic/WELLS14.TXT',\n",
       " 'http://www.aer.ca/data/well-lic/WELLS15.TXT',\n",
       " 'http://www.aer.ca/data/well-lic/WELLS16.TXT',\n",
       " 'http://www.aer.ca/data/well-lic/WELLS17.TXT',\n",
       " 'http://www.aer.ca/data/well-lic/WELLS18.TXT',\n",
       " 'http://www.aer.ca/data/well-lic/WELLS19.TXT',\n",
       " 'http://www.aer.ca/data/well-lic/WELLS20.TXT',\n",
       " 'http://www.aer.ca/data/well-lic/WELLS21.TXT',\n",
       " 'http://www.aer.ca/data/well-lic/WELLS22.TXT',\n",
       " 'http://www.aer.ca/data/well-lic/WELLS23.TXT',\n",
       " 'http://www.aer.ca/data/well-lic/WELLS24.TXT',\n",
       " 'http://www.aer.ca/data/well-lic/WELLS25.TXT',\n",
       " 'http://www.aer.ca/data/well-lic/WELLS26.TXT',\n",
       " 'http://www.aer.ca/data/well-lic/WELLS27.TXT',\n",
       " 'http://www.aer.ca/data/well-lic/WELLS28.TXT',\n",
       " 'http://www.aer.ca/data/well-lic/WELLS29.TXT',\n",
       " 'http://www.aer.ca/data/well-lic/WELLS30.TXT']"
      ]
     },
     "execution_count": 360,
     "metadata": {},
     "output_type": "execute_result"
    }
   ],
   "source": [
    "import datetime\n",
    "\n",
    "Year = datetime.date.today().strftime(\"%Y\")\n",
    "Month = datetime.date.today().strftime(\"%m\")\n",
    "day = datetime.date.today().strftime(\"%d\")\n",
    "\n",
    "date = str(Month+day)\n",
    "refDATE = datetime.datetime(int(Year), int(Month)-1, 1)\n",
    "\n",
    "URL = 'http://www.aer.ca/data/well-lic/WELLS' + date + '.TXT'\n",
    "\n",
    "if int(Month) in (1,3,5,7,8,10,12):\n",
    "    X = 31\n",
    "elif int(test) in (4,6,9,11):\n",
    "    X = 30\n",
    "else: X = 28\n",
    "    \n",
    "searchlist =  []\n",
    "\n",
    "for i in range(1,X+1):\n",
    "    num = \"{0:02d}\".format(i)\n",
    "    searchlist.append('http://www.aer.ca/data/well-lic/WELLS' + num + '.TXT') \n",
    "\n",
    "searchlist"
   ]
  },
  {
   "cell_type": "code",
   "execution_count": 358,
   "metadata": {},
   "outputs": [
    {
     "data": {
      "text/plain": [
       "['00',\n",
       " '01',\n",
       " '02',\n",
       " '03',\n",
       " '04',\n",
       " '05',\n",
       " '06',\n",
       " '07',\n",
       " '08',\n",
       " '09',\n",
       " '10',\n",
       " '11',\n",
       " '12',\n",
       " '13',\n",
       " '14',\n",
       " '15',\n",
       " '16',\n",
       " '17',\n",
       " '18',\n",
       " '19',\n",
       " '20',\n",
       " '21',\n",
       " '22',\n",
       " '23',\n",
       " '24',\n",
       " '25',\n",
       " '26',\n",
       " '27',\n",
       " '28',\n",
       " '29',\n",
       " '30']"
      ]
     },
     "execution_count": 358,
     "metadata": {},
     "output_type": "execute_result"
    }
   ],
   "source": [
    "Datelist =  []\n",
    "\n",
    "for i in range(0,X+1):\n",
    "    Datelist.append(\"{0:02d}\".format(i))\n",
    "\n",
    "Datelist"
   ]
  },
  {
   "cell_type": "code",
   "execution_count": 312,
   "metadata": {},
   "outputs": [
    {
     "data": {
      "text/plain": [
       "4"
      ]
     },
     "execution_count": 312,
     "metadata": {},
     "output_type": "execute_result"
    }
   ],
   "source": [
    "int(Month)"
   ]
  },
  {
   "cell_type": "code",
   "execution_count": null,
   "metadata": {},
   "outputs": [],
   "source": [
    "/html/body/table[1]"
   ]
  },
  {
   "cell_type": "code",
   "execution_count": null,
   "metadata": {},
   "outputs": [],
   "source": [
    "/html/body/table[2]"
   ]
  }
 ],
 "metadata": {
  "kernelspec": {
   "display_name": "Python 3",
   "language": "python",
   "name": "python3"
  },
  "language_info": {
   "codemirror_mode": {
    "name": "ipython",
    "version": 3
   },
   "file_extension": ".py",
   "mimetype": "text/x-python",
   "name": "python",
   "nbconvert_exporter": "python",
   "pygments_lexer": "ipython3",
   "version": "3.6.4"
  }
 },
 "nbformat": 4,
 "nbformat_minor": 2
}
