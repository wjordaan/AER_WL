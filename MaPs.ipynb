{
 "cells": [
  {
   "cell_type": "markdown",
   "metadata": {},
   "source": [
    "# MaPs Reports\n",
    "\n",
    "Reads the Maps report XLSM and generates three dataframes:\n",
    "\n",
    "1. Wellbore --- (df_maps_wb)\n",
    "\n",
    "2. MWD --- (df_maps_mwd)\n",
    "\n",
    "3. Motor --- (df_maps_mtr)"
   ]
  },
  {
   "cell_type": "code",
   "execution_count": 48,
   "metadata": {},
   "outputs": [],
   "source": [
    "import sqlite3\n",
    "import pandas as pd"
   ]
  },
  {
   "cell_type": "markdown",
   "metadata": {},
   "source": [
    "### Definitions ###"
   ]
  },
  {
   "cell_type": "code",
   "execution_count": 46,
   "metadata": {},
   "outputs": [],
   "source": [
    "def read_maps(MaPsfile, skiprows):\n",
    "    '''\n",
    "    Takes argument MaPsfile, skiprows\n",
    "    Returns: df_maps\n",
    "    '''\n",
    "    import pandas as pd\n",
    "    df_maps = pd.read_excel(MaPsfile, skiprows=skip, usecols=19, sheet_name= 'MaPS 1-10')\n",
    "    df_maps = df_maps[:12]\n",
    "    return df_maps"
   ]
  },
  {
   "cell_type": "markdown",
   "metadata": {},
   "source": [
    "### Import Data (XLSM)"
   ]
  },
  {
   "cell_type": "code",
   "execution_count": 47,
   "metadata": {},
   "outputs": [],
   "source": [
    "MaPsfile = '9-9~VESTA JOFFRE 102-8-2-40-27~Twilight 2~MAPS.xlsm'\n",
    "\n",
    "# MaPs | BHGE MaPs XLSX File\n",
    "Rig = MaPsfile.split(\"~\")[2]\n",
    "Well = MaPsfile.split(\"~\")[1]\n",
    "Pad = MaPsfile.split(\"~\")[0]\n",
    "\n",
    "Rig = Rig.replace(\" \", \"_\")\n",
    "Well = Well.replace(\" \", \"_\")\n",
    "Well = Well.replace(\"-\", \"_\")\n"
   ]
  },
  {
   "cell_type": "markdown",
   "metadata": {},
   "source": [
    " ### Script"
   ]
  },
  {
   "cell_type": "code",
   "execution_count": 5,
   "metadata": {},
   "outputs": [],
   "source": [
    "df_maps_wb = read_maps(MaPsfile, 8)\n",
    "df_maps_wb = df_maps_wb.dropna(subset = ['Hole Size'])\n",
    "\n",
    "df_maps_mwd = read_maps(MaPsfile, 21)\n",
    "df_maps_mwd = df_maps_mwd.dropna(subset = ['Tool Size'])\n",
    "\n",
    "df_maps_mtr = read_maps(MaPsfile, 34)\n",
    "df_maps_mtr = df_maps_mtr.dropna(subset = ['Tool Size'])"
   ]
  },
  {
   "cell_type": "markdown",
   "metadata": {},
   "source": [
    "### SQLite"
   ]
  },
  {
   "cell_type": "code",
   "execution_count": 39,
   "metadata": {},
   "outputs": [],
   "source": [
    "import sqlite3\n",
    "import pandas as pd"
   ]
  },
  {
   "cell_type": "markdown",
   "metadata": {},
   "source": [
    "Write dataframes to SQLite database"
   ]
  },
  {
   "cell_type": "code",
   "execution_count": 42,
   "metadata": {},
   "outputs": [
    {
     "name": "stderr",
     "output_type": "stream",
     "text": [
      "C:\\1Python\\lib\\site-packages\\pandas\\core\\generic.py:1534: UserWarning: The spaces in these column names will not be changed. In pandas versions < 0.14, spaces were converted to underscores.\n",
      "  chunksize=chunksize, dtype=dtype)\n"
     ]
    }
   ],
   "source": [
    "con = sqlite3.connect('Well_Data.db')\n",
    "\n",
    "df_maps_wb.to_sql('df_maps_wb_'+Well, con=con, if_exists='replace')\n",
    "df_maps_mwd.to_sql('df_maps_mwd_'+Well, con=con, if_exists='replace')\n",
    "df_maps_mtr.to_sql('df_maps_mtr_'+Well, con=con, if_exists='replace')\n",
    "\n",
    "con.close()"
   ]
  },
  {
   "cell_type": "markdown",
   "metadata": {},
   "source": [
    "Query SQLite database for dataframes"
   ]
  },
  {
   "cell_type": "code",
   "execution_count": 43,
   "metadata": {},
   "outputs": [],
   "source": [
    "con = sqlite3.connect('Well_Data.db')\n",
    "df_test = pd.read_sql_query('SELECT * from df_maps_wb_'+Well,con)"
   ]
  },
  {
   "cell_type": "code",
   "execution_count": null,
   "metadata": {},
   "outputs": [],
   "source": []
  },
  {
   "cell_type": "code",
   "execution_count": null,
   "metadata": {},
   "outputs": [],
   "source": []
  }
 ],
 "metadata": {
  "kernelspec": {
   "display_name": "Python 3",
   "language": "python",
   "name": "python3"
  },
  "language_info": {
   "codemirror_mode": {
    "name": "ipython",
    "version": 3
   },
   "file_extension": ".py",
   "mimetype": "text/x-python",
   "name": "python",
   "nbconvert_exporter": "python",
   "pygments_lexer": "ipython3",
   "version": "3.6.4"
  }
 },
 "nbformat": 4,
 "nbformat_minor": 2
}
